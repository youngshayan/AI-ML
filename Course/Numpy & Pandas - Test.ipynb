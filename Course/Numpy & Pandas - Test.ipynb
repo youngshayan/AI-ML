{
 "cells": [
  {
   "metadata": {},
   "cell_type": "markdown",
   "source": "# test and learn how to work with pandas and numpy together",
   "id": "86123c73b60104ac"
  },
  {
   "metadata": {},
   "cell_type": "markdown",
   "source": "----",
   "id": "b3647606e544d2e6"
  },
  {
   "metadata": {},
   "cell_type": "markdown",
   "source": "**find duplicates and delete them**",
   "id": "e431933214bd6ddd"
  },
  {
   "cell_type": "code",
   "id": "initial_id",
   "metadata": {
    "collapsed": true,
    "ExecuteTime": {
     "end_time": "2024-11-03T15:51:49.138745Z",
     "start_time": "2024-11-03T15:51:49.133092Z"
    }
   },
   "source": [
    "import pandas as pd\n",
    "import numpy as np\n",
    "\n",
    "test ={\n",
    "    'k1': ['one', 'two'] * 3 + ['two'],\n",
    "    'k2': [1, 1, 2, 3, 3, 4, 4]\n",
    "}\n",
    "df = pd.DataFrame(test)\n",
    "df"
   ],
   "outputs": [
    {
     "data": {
      "text/plain": [
       "    k1  k2\n",
       "0  one   1\n",
       "1  two   1\n",
       "2  one   2\n",
       "3  two   3\n",
       "4  one   3\n",
       "5  two   4\n",
       "6  two   4"
      ],
      "text/html": [
       "<div>\n",
       "<style scoped>\n",
       "    .dataframe tbody tr th:only-of-type {\n",
       "        vertical-align: middle;\n",
       "    }\n",
       "\n",
       "    .dataframe tbody tr th {\n",
       "        vertical-align: top;\n",
       "    }\n",
       "\n",
       "    .dataframe thead th {\n",
       "        text-align: right;\n",
       "    }\n",
       "</style>\n",
       "<table border=\"1\" class=\"dataframe\">\n",
       "  <thead>\n",
       "    <tr style=\"text-align: right;\">\n",
       "      <th></th>\n",
       "      <th>k1</th>\n",
       "      <th>k2</th>\n",
       "    </tr>\n",
       "  </thead>\n",
       "  <tbody>\n",
       "    <tr>\n",
       "      <th>0</th>\n",
       "      <td>one</td>\n",
       "      <td>1</td>\n",
       "    </tr>\n",
       "    <tr>\n",
       "      <th>1</th>\n",
       "      <td>two</td>\n",
       "      <td>1</td>\n",
       "    </tr>\n",
       "    <tr>\n",
       "      <th>2</th>\n",
       "      <td>one</td>\n",
       "      <td>2</td>\n",
       "    </tr>\n",
       "    <tr>\n",
       "      <th>3</th>\n",
       "      <td>two</td>\n",
       "      <td>3</td>\n",
       "    </tr>\n",
       "    <tr>\n",
       "      <th>4</th>\n",
       "      <td>one</td>\n",
       "      <td>3</td>\n",
       "    </tr>\n",
       "    <tr>\n",
       "      <th>5</th>\n",
       "      <td>two</td>\n",
       "      <td>4</td>\n",
       "    </tr>\n",
       "    <tr>\n",
       "      <th>6</th>\n",
       "      <td>two</td>\n",
       "      <td>4</td>\n",
       "    </tr>\n",
       "  </tbody>\n",
       "</table>\n",
       "</div>"
      ]
     },
     "execution_count": 18,
     "metadata": {},
     "output_type": "execute_result"
    }
   ],
   "execution_count": 18
  },
  {
   "metadata": {
    "ExecuteTime": {
     "end_time": "2024-11-03T15:51:49.185360Z",
     "start_time": "2024-11-03T15:51:49.181035Z"
    }
   },
   "cell_type": "code",
   "source": "df.duplicated()",
   "id": "a1b667921c68bd5e",
   "outputs": [
    {
     "data": {
      "text/plain": [
       "0    False\n",
       "1    False\n",
       "2    False\n",
       "3    False\n",
       "4    False\n",
       "5    False\n",
       "6     True\n",
       "dtype: bool"
      ]
     },
     "execution_count": 19,
     "metadata": {},
     "output_type": "execute_result"
    }
   ],
   "execution_count": 19
  },
  {
   "metadata": {
    "ExecuteTime": {
     "end_time": "2024-11-03T15:51:49.249817Z",
     "start_time": "2024-11-03T15:51:49.244053Z"
    }
   },
   "cell_type": "code",
   "source": "df.drop_duplicates()",
   "id": "61a05390983466fb",
   "outputs": [
    {
     "data": {
      "text/plain": [
       "    k1  k2\n",
       "0  one   1\n",
       "1  two   1\n",
       "2  one   2\n",
       "3  two   3\n",
       "4  one   3\n",
       "5  two   4"
      ],
      "text/html": [
       "<div>\n",
       "<style scoped>\n",
       "    .dataframe tbody tr th:only-of-type {\n",
       "        vertical-align: middle;\n",
       "    }\n",
       "\n",
       "    .dataframe tbody tr th {\n",
       "        vertical-align: top;\n",
       "    }\n",
       "\n",
       "    .dataframe thead th {\n",
       "        text-align: right;\n",
       "    }\n",
       "</style>\n",
       "<table border=\"1\" class=\"dataframe\">\n",
       "  <thead>\n",
       "    <tr style=\"text-align: right;\">\n",
       "      <th></th>\n",
       "      <th>k1</th>\n",
       "      <th>k2</th>\n",
       "    </tr>\n",
       "  </thead>\n",
       "  <tbody>\n",
       "    <tr>\n",
       "      <th>0</th>\n",
       "      <td>one</td>\n",
       "      <td>1</td>\n",
       "    </tr>\n",
       "    <tr>\n",
       "      <th>1</th>\n",
       "      <td>two</td>\n",
       "      <td>1</td>\n",
       "    </tr>\n",
       "    <tr>\n",
       "      <th>2</th>\n",
       "      <td>one</td>\n",
       "      <td>2</td>\n",
       "    </tr>\n",
       "    <tr>\n",
       "      <th>3</th>\n",
       "      <td>two</td>\n",
       "      <td>3</td>\n",
       "    </tr>\n",
       "    <tr>\n",
       "      <th>4</th>\n",
       "      <td>one</td>\n",
       "      <td>3</td>\n",
       "    </tr>\n",
       "    <tr>\n",
       "      <th>5</th>\n",
       "      <td>two</td>\n",
       "      <td>4</td>\n",
       "    </tr>\n",
       "  </tbody>\n",
       "</table>\n",
       "</div>"
      ]
     },
     "execution_count": 20,
     "metadata": {},
     "output_type": "execute_result"
    }
   ],
   "execution_count": 20
  },
  {
   "metadata": {
    "ExecuteTime": {
     "end_time": "2024-11-03T15:51:49.339333Z",
     "start_time": "2024-11-03T15:51:49.332311Z"
    }
   },
   "cell_type": "code",
   "source": [
    "df.drop([0,4],inplace=True)\n",
    "df"
   ],
   "id": "6aa1262cdf637ba",
   "outputs": [
    {
     "data": {
      "text/plain": [
       "    k1  k2\n",
       "1  two   1\n",
       "2  one   2\n",
       "3  two   3\n",
       "5  two   4\n",
       "6  two   4"
      ],
      "text/html": [
       "<div>\n",
       "<style scoped>\n",
       "    .dataframe tbody tr th:only-of-type {\n",
       "        vertical-align: middle;\n",
       "    }\n",
       "\n",
       "    .dataframe tbody tr th {\n",
       "        vertical-align: top;\n",
       "    }\n",
       "\n",
       "    .dataframe thead th {\n",
       "        text-align: right;\n",
       "    }\n",
       "</style>\n",
       "<table border=\"1\" class=\"dataframe\">\n",
       "  <thead>\n",
       "    <tr style=\"text-align: right;\">\n",
       "      <th></th>\n",
       "      <th>k1</th>\n",
       "      <th>k2</th>\n",
       "    </tr>\n",
       "  </thead>\n",
       "  <tbody>\n",
       "    <tr>\n",
       "      <th>1</th>\n",
       "      <td>two</td>\n",
       "      <td>1</td>\n",
       "    </tr>\n",
       "    <tr>\n",
       "      <th>2</th>\n",
       "      <td>one</td>\n",
       "      <td>2</td>\n",
       "    </tr>\n",
       "    <tr>\n",
       "      <th>3</th>\n",
       "      <td>two</td>\n",
       "      <td>3</td>\n",
       "    </tr>\n",
       "    <tr>\n",
       "      <th>5</th>\n",
       "      <td>two</td>\n",
       "      <td>4</td>\n",
       "    </tr>\n",
       "    <tr>\n",
       "      <th>6</th>\n",
       "      <td>two</td>\n",
       "      <td>4</td>\n",
       "    </tr>\n",
       "  </tbody>\n",
       "</table>\n",
       "</div>"
      ]
     },
     "execution_count": 21,
     "metadata": {},
     "output_type": "execute_result"
    }
   ],
   "execution_count": 21
  },
  {
   "metadata": {
    "ExecuteTime": {
     "end_time": "2024-11-03T15:51:49.561744Z",
     "start_time": "2024-11-03T15:51:49.555742Z"
    }
   },
   "cell_type": "code",
   "source": [
    "new_df = df.reset_index()\n",
    "new_df"
   ],
   "id": "85a08d78ce0738dd",
   "outputs": [
    {
     "data": {
      "text/plain": [
       "   index   k1  k2\n",
       "0      1  two   1\n",
       "1      2  one   2\n",
       "2      3  two   3\n",
       "3      5  two   4\n",
       "4      6  two   4"
      ],
      "text/html": [
       "<div>\n",
       "<style scoped>\n",
       "    .dataframe tbody tr th:only-of-type {\n",
       "        vertical-align: middle;\n",
       "    }\n",
       "\n",
       "    .dataframe tbody tr th {\n",
       "        vertical-align: top;\n",
       "    }\n",
       "\n",
       "    .dataframe thead th {\n",
       "        text-align: right;\n",
       "    }\n",
       "</style>\n",
       "<table border=\"1\" class=\"dataframe\">\n",
       "  <thead>\n",
       "    <tr style=\"text-align: right;\">\n",
       "      <th></th>\n",
       "      <th>index</th>\n",
       "      <th>k1</th>\n",
       "      <th>k2</th>\n",
       "    </tr>\n",
       "  </thead>\n",
       "  <tbody>\n",
       "    <tr>\n",
       "      <th>0</th>\n",
       "      <td>1</td>\n",
       "      <td>two</td>\n",
       "      <td>1</td>\n",
       "    </tr>\n",
       "    <tr>\n",
       "      <th>1</th>\n",
       "      <td>2</td>\n",
       "      <td>one</td>\n",
       "      <td>2</td>\n",
       "    </tr>\n",
       "    <tr>\n",
       "      <th>2</th>\n",
       "      <td>3</td>\n",
       "      <td>two</td>\n",
       "      <td>3</td>\n",
       "    </tr>\n",
       "    <tr>\n",
       "      <th>3</th>\n",
       "      <td>5</td>\n",
       "      <td>two</td>\n",
       "      <td>4</td>\n",
       "    </tr>\n",
       "    <tr>\n",
       "      <th>4</th>\n",
       "      <td>6</td>\n",
       "      <td>two</td>\n",
       "      <td>4</td>\n",
       "    </tr>\n",
       "  </tbody>\n",
       "</table>\n",
       "</div>"
      ]
     },
     "execution_count": 22,
     "metadata": {},
     "output_type": "execute_result"
    }
   ],
   "execution_count": 22
  },
  {
   "metadata": {
    "ExecuteTime": {
     "end_time": "2024-11-03T15:51:49.730946Z",
     "start_time": "2024-11-03T15:51:49.723690Z"
    }
   },
   "cell_type": "code",
   "source": [
    "new_df.drop(columns = ['index'],inplace=True)\n",
    "new_df"
   ],
   "id": "281db6a9c5d8aad9",
   "outputs": [
    {
     "data": {
      "text/plain": [
       "    k1  k2\n",
       "0  two   1\n",
       "1  one   2\n",
       "2  two   3\n",
       "3  two   4\n",
       "4  two   4"
      ],
      "text/html": [
       "<div>\n",
       "<style scoped>\n",
       "    .dataframe tbody tr th:only-of-type {\n",
       "        vertical-align: middle;\n",
       "    }\n",
       "\n",
       "    .dataframe tbody tr th {\n",
       "        vertical-align: top;\n",
       "    }\n",
       "\n",
       "    .dataframe thead th {\n",
       "        text-align: right;\n",
       "    }\n",
       "</style>\n",
       "<table border=\"1\" class=\"dataframe\">\n",
       "  <thead>\n",
       "    <tr style=\"text-align: right;\">\n",
       "      <th></th>\n",
       "      <th>k1</th>\n",
       "      <th>k2</th>\n",
       "    </tr>\n",
       "  </thead>\n",
       "  <tbody>\n",
       "    <tr>\n",
       "      <th>0</th>\n",
       "      <td>two</td>\n",
       "      <td>1</td>\n",
       "    </tr>\n",
       "    <tr>\n",
       "      <th>1</th>\n",
       "      <td>one</td>\n",
       "      <td>2</td>\n",
       "    </tr>\n",
       "    <tr>\n",
       "      <th>2</th>\n",
       "      <td>two</td>\n",
       "      <td>3</td>\n",
       "    </tr>\n",
       "    <tr>\n",
       "      <th>3</th>\n",
       "      <td>two</td>\n",
       "      <td>4</td>\n",
       "    </tr>\n",
       "    <tr>\n",
       "      <th>4</th>\n",
       "      <td>two</td>\n",
       "      <td>4</td>\n",
       "    </tr>\n",
       "  </tbody>\n",
       "</table>\n",
       "</div>"
      ]
     },
     "execution_count": 23,
     "metadata": {},
     "output_type": "execute_result"
    }
   ],
   "execution_count": 23
  },
  {
   "metadata": {
    "ExecuteTime": {
     "end_time": "2024-11-03T15:51:49.915152Z",
     "start_time": "2024-11-03T15:51:49.909154Z"
    }
   },
   "cell_type": "code",
   "source": "new_df.drop(columns = ['k1'])",
   "id": "75e18d54658f8a89",
   "outputs": [
    {
     "data": {
      "text/plain": [
       "   k2\n",
       "0   1\n",
       "1   2\n",
       "2   3\n",
       "3   4\n",
       "4   4"
      ],
      "text/html": [
       "<div>\n",
       "<style scoped>\n",
       "    .dataframe tbody tr th:only-of-type {\n",
       "        vertical-align: middle;\n",
       "    }\n",
       "\n",
       "    .dataframe tbody tr th {\n",
       "        vertical-align: top;\n",
       "    }\n",
       "\n",
       "    .dataframe thead th {\n",
       "        text-align: right;\n",
       "    }\n",
       "</style>\n",
       "<table border=\"1\" class=\"dataframe\">\n",
       "  <thead>\n",
       "    <tr style=\"text-align: right;\">\n",
       "      <th></th>\n",
       "      <th>k2</th>\n",
       "    </tr>\n",
       "  </thead>\n",
       "  <tbody>\n",
       "    <tr>\n",
       "      <th>0</th>\n",
       "      <td>1</td>\n",
       "    </tr>\n",
       "    <tr>\n",
       "      <th>1</th>\n",
       "      <td>2</td>\n",
       "    </tr>\n",
       "    <tr>\n",
       "      <th>2</th>\n",
       "      <td>3</td>\n",
       "    </tr>\n",
       "    <tr>\n",
       "      <th>3</th>\n",
       "      <td>4</td>\n",
       "    </tr>\n",
       "    <tr>\n",
       "      <th>4</th>\n",
       "      <td>4</td>\n",
       "    </tr>\n",
       "  </tbody>\n",
       "</table>\n",
       "</div>"
      ]
     },
     "execution_count": 24,
     "metadata": {},
     "output_type": "execute_result"
    }
   ],
   "execution_count": 24
  },
  {
   "metadata": {},
   "cell_type": "markdown",
   "source": "## find the null value and drop them ",
   "id": "fe63e9aaed9ab073"
  },
  {
   "metadata": {
    "ExecuteTime": {
     "end_time": "2024-11-03T15:57:21.786018Z",
     "start_time": "2024-11-03T15:57:21.718787Z"
    }
   },
   "cell_type": "code",
   "source": [
    "import pandas as pd\n",
    "import numpy as np\n",
    "df = pd.read_csv('data.csv')\n",
    "print(df.to_string())\n",
    "print(df.info())"
   ],
   "id": "f001264fc126fad7",
   "outputs": [
    {
     "name": "stdout",
     "output_type": "stream",
     "text": [
      "     Duration  Pulse  Maxpulse  Calories\n",
      "0        60.0  110.0     130.0     409.1\n",
      "1        60.0  117.0     145.0     479.0\n",
      "2        60.0  103.0     135.0     340.0\n",
      "3        45.0  109.0     175.0     282.4\n",
      "4        45.0  117.0     148.0     406.0\n",
      "5        60.0  102.0     127.0     300.0\n",
      "6        60.0  110.0     136.0     374.0\n",
      "7        45.0  104.0     134.0     253.3\n",
      "8        30.0  109.0     133.0     195.1\n",
      "9        60.0   98.0     124.0     269.0\n",
      "10       60.0  103.0     147.0     329.3\n",
      "11       60.0  100.0     120.0     250.7\n",
      "12       60.0  106.0     128.0     345.3\n",
      "13       60.0  104.0     132.0     379.3\n",
      "14       60.0   98.0     123.0     275.0\n",
      "15       60.0   98.0     120.0     215.2\n",
      "16       60.0  100.0     120.0     300.0\n",
      "17       45.0   90.0     112.0       NaN\n",
      "18       60.0  103.0     123.0     323.0\n",
      "19       45.0   97.0     125.0     243.0\n",
      "20       60.0  108.0     131.0     364.2\n",
      "21       45.0  100.0     119.0     282.0\n",
      "22       60.0  130.0     101.0     300.0\n",
      "23       45.0  105.0     132.0     246.0\n",
      "24       60.0  102.0     126.0     334.5\n",
      "25       60.0  100.0     120.0     250.0\n",
      "26       60.0   92.0     118.0     241.0\n",
      "27       60.0  103.0     132.0       NaN\n",
      "28       60.0  100.0     132.0     280.0\n",
      "29       60.0  102.0     129.0     380.3\n",
      "30       60.0   92.0     115.0     243.0\n",
      "31       45.0   90.0     112.0     180.1\n",
      "32       60.0  101.0     124.0     299.0\n",
      "33       60.0   93.0     113.0     223.0\n",
      "34       60.0  107.0     136.0     361.0\n",
      "35       60.0  114.0     140.0     415.0\n",
      "36       60.0  102.0     127.0     300.0\n",
      "37       60.0  100.0     120.0     300.0\n",
      "38       60.0  100.0     120.0     300.0\n",
      "39       45.0  104.0     129.0     266.0\n",
      "40       45.0   90.0     112.0     180.1\n",
      "41       60.0   98.0     126.0     286.0\n",
      "42       60.0  100.0     122.0     329.4\n",
      "43       60.0  111.0     138.0     400.0\n",
      "44       60.0  111.0     131.0     397.0\n",
      "45       60.0   99.0     119.0     273.0\n",
      "46       60.0  109.0     153.0     387.6\n",
      "47       45.0  111.0     136.0     300.0\n",
      "48       45.0  108.0     129.0     298.0\n",
      "49       60.0  111.0     139.0     397.6\n",
      "50       60.0  107.0     136.0     380.2\n",
      "51       80.0  123.0     146.0     643.1\n",
      "52        NaN  106.0     130.0     263.0\n",
      "53       60.0  118.0       NaN     486.0\n",
      "54        NaN  136.0     175.0     238.0\n",
      "55       60.0  121.0     146.0     450.7\n",
      "56       60.0  118.0     121.0     413.0\n",
      "57       45.0  115.0     144.0     305.0\n",
      "58       20.0  153.0     172.0     226.4\n",
      "59       45.0  123.0     152.0     321.0\n",
      "60      210.0  108.0     160.0    1376.0\n",
      "61      160.0  110.0     137.0    1034.4\n",
      "62      160.0  109.0     135.0     853.0\n",
      "63       45.0    NaN     141.0     341.0\n",
      "64       20.0  110.0     130.0     131.4\n",
      "65      180.0   90.0     130.0     800.4\n",
      "66      150.0  105.0     135.0     873.4\n",
      "67      150.0  107.0     130.0     816.0\n",
      "68       20.0  106.0     136.0     110.4\n",
      "69      300.0  108.0     143.0    1500.2\n",
      "70      150.0   97.0     129.0    1115.0\n",
      "71       60.0  109.0     153.0     387.6\n",
      "72       90.0  100.0     127.0     700.0\n",
      "73        NaN   97.0     127.0     953.2\n",
      "74       45.0  114.0     146.0     304.0\n",
      "75       90.0   98.0     125.0     563.2\n",
      "76       45.0  105.0     134.0     251.0\n",
      "77       45.0  110.0     141.0     300.0\n",
      "78      120.0  100.0     130.0     500.4\n",
      "79      270.0  100.0     131.0    1729.0\n",
      "80       30.0  159.0     182.0     319.2\n",
      "81       45.0  149.0     169.0     344.0\n",
      "82       30.0  103.0     139.0     151.1\n",
      "83      120.0  100.0     130.0     500.0\n",
      "84       45.0  100.0     120.0     225.3\n",
      "85        NaN  151.0       NaN     300.0\n",
      "86       45.0  102.0     136.0     234.0\n",
      "87      120.0  100.0     157.0    1000.1\n",
      "88       45.0  129.0     103.0     242.0\n",
      "89       20.0   83.0     107.0      50.3\n",
      "90      180.0  101.0     127.0     600.1\n",
      "91       45.0  107.0     137.0       NaN\n",
      "92       30.0   90.0     107.0     105.3\n",
      "93       15.0   80.0     100.0      50.5\n",
      "94       20.0  150.0     171.0     127.4\n",
      "95       20.0  151.0     168.0     229.4\n",
      "96       30.0   95.0     128.0     128.2\n",
      "97       25.0  152.0     168.0     244.2\n",
      "98       30.0  109.0     131.0     188.2\n",
      "99       90.0   93.0     124.0     604.1\n",
      "100      20.0   95.0     112.0      77.7\n",
      "101      90.0   90.0       NaN     500.0\n",
      "102      90.0   90.0     100.0     500.0\n",
      "103      90.0   90.0     100.0     500.4\n",
      "104      30.0   92.0     108.0      92.7\n",
      "105      30.0   93.0     128.0     124.0\n",
      "106     180.0   90.0     120.0     800.3\n",
      "107      30.0   90.0     120.0      86.2\n",
      "108      90.0   90.0     120.0     500.3\n",
      "109     210.0  137.0     184.0    1860.4\n",
      "110      60.0  102.0     124.0     325.2\n",
      "111      45.0  107.0     124.0     275.0\n",
      "112      15.0  124.0     139.0     124.2\n",
      "113      45.0  100.0     120.0     225.3\n",
      "114      60.0  108.0     131.0     367.6\n",
      "115      60.0  108.0     151.0     351.7\n",
      "116      60.0  116.0     141.0     443.0\n",
      "117      60.0   97.0     122.0     277.4\n",
      "118      60.0  105.0     125.0       NaN\n",
      "119      60.0  103.0     124.0     332.7\n",
      "120      30.0  112.0     137.0     193.9\n",
      "121      45.0  100.0     120.0     100.7\n",
      "122      60.0  119.0       NaN     336.7\n",
      "123      60.0  107.0     127.0     344.9\n",
      "124      60.0  111.0     151.0     368.5\n",
      "125      60.0   98.0     122.0     271.0\n",
      "126      60.0   97.0     124.0     275.3\n",
      "127      60.0  109.0     127.0     382.0\n",
      "128      90.0   99.0     125.0     466.4\n",
      "129      60.0  114.0     151.0     384.0\n",
      "130      60.0  104.0     134.0     342.5\n",
      "131      60.0  107.0     138.0     357.5\n",
      "132      60.0  103.0     133.0     335.0\n",
      "133      60.0  106.0     132.0     327.5\n",
      "134      60.0  103.0     136.0     339.0\n",
      "135      20.0  136.0     156.0     189.0\n",
      "136      45.0  117.0     143.0     317.7\n",
      "137      45.0  115.0     137.0     318.0\n",
      "138      45.0  113.0     138.0     308.0\n",
      "139      20.0  141.0     162.0     222.4\n",
      "140      60.0  108.0     135.0     390.0\n",
      "141      60.0   97.0     127.0       NaN\n",
      "142      45.0  100.0     120.0     250.4\n",
      "143      45.0  122.0     149.0     335.4\n",
      "144      60.0  136.0     170.0     470.2\n",
      "145      45.0  106.0     126.0     270.8\n",
      "146      60.0  107.0     136.0     400.0\n",
      "147      60.0  112.0     146.0     361.9\n",
      "148      30.0  103.0     127.0     185.0\n",
      "149      60.0  110.0     150.0     409.4\n",
      "150      60.0  106.0     134.0     343.0\n",
      "151      60.0  109.0     129.0     353.2\n",
      "152      60.0  109.0     138.0     374.0\n",
      "153      30.0  150.0     167.0     275.8\n",
      "154      60.0  105.0     128.0     328.0\n",
      "155      60.0  111.0     151.0     368.5\n",
      "156      60.0   97.0     131.0     270.4\n",
      "157      60.0  100.0     120.0     270.4\n",
      "158      60.0  114.0     150.0     382.8\n",
      "159      30.0   80.0     120.0     240.9\n",
      "160      30.0   85.0     120.0     250.4\n",
      "161      45.0   90.0     130.0     260.4\n",
      "162      45.0   95.0     130.0     270.0\n",
      "163      45.0  100.0     140.0     280.9\n",
      "164      60.0  105.0     140.0     290.8\n",
      "165      60.0  110.0     145.0     300.0\n",
      "166      60.0  115.0     145.0     310.2\n",
      "167      75.0  120.0     150.0     320.4\n",
      "168      75.0  125.0     150.0     330.4\n",
      "<class 'pandas.core.frame.DataFrame'>\n",
      "RangeIndex: 169 entries, 0 to 168\n",
      "Data columns (total 4 columns):\n",
      " #   Column    Non-Null Count  Dtype  \n",
      "---  ------    --------------  -----  \n",
      " 0   Duration  165 non-null    float64\n",
      " 1   Pulse     168 non-null    float64\n",
      " 2   Maxpulse  165 non-null    float64\n",
      " 3   Calories  164 non-null    float64\n",
      "dtypes: float64(4)\n",
      "memory usage: 5.4 KB\n",
      "None\n"
     ]
    }
   ],
   "execution_count": 29
  },
  {
   "metadata": {
    "ExecuteTime": {
     "end_time": "2024-11-03T16:00:24.060889Z",
     "start_time": "2024-11-03T16:00:24.048188Z"
    }
   },
   "cell_type": "code",
   "source": [
    "df2 = df.dropna()\n",
    "print(df2.info())"
   ],
   "id": "41425e9e75c8d02",
   "outputs": [
    {
     "name": "stdout",
     "output_type": "stream",
     "text": [
      "<class 'pandas.core.frame.DataFrame'>\n",
      "Index: 156 entries, 0 to 168\n",
      "Data columns (total 4 columns):\n",
      " #   Column    Non-Null Count  Dtype  \n",
      "---  ------    --------------  -----  \n",
      " 0   Duration  156 non-null    float64\n",
      " 1   Pulse     156 non-null    float64\n",
      " 2   Maxpulse  156 non-null    float64\n",
      " 3   Calories  156 non-null    float64\n",
      "dtypes: float64(4)\n",
      "memory usage: 6.1 KB\n",
      "None\n"
     ]
    }
   ],
   "execution_count": 33
  },
  {
   "metadata": {
    "ExecuteTime": {
     "end_time": "2024-11-03T16:05:41.693039Z",
     "start_time": "2024-11-03T16:05:41.686106Z"
    }
   },
   "cell_type": "code",
   "source": [
    "x = df['Calories'].mean()\n",
    "df.fillna({'Calories':x}, inplace=True)\n",
    "print(df.info())"
   ],
   "id": "70dc8c9e13369c05",
   "outputs": [
    {
     "name": "stdout",
     "output_type": "stream",
     "text": [
      "<class 'pandas.core.frame.DataFrame'>\n",
      "RangeIndex: 169 entries, 0 to 168\n",
      "Data columns (total 4 columns):\n",
      " #   Column    Non-Null Count  Dtype  \n",
      "---  ------    --------------  -----  \n",
      " 0   Duration  165 non-null    float64\n",
      " 1   Pulse     168 non-null    float64\n",
      " 2   Maxpulse  165 non-null    float64\n",
      " 3   Calories  169 non-null    float64\n",
      "dtypes: float64(4)\n",
      "memory usage: 5.4 KB\n",
      "None\n"
     ]
    }
   ],
   "execution_count": 38
  },
  {
   "metadata": {
    "ExecuteTime": {
     "end_time": "2024-11-03T16:07:16.022293Z",
     "start_time": "2024-11-03T16:07:16.009019Z"
    }
   },
   "cell_type": "code",
   "source": [
    "z = df.mean()\n",
    "df.fillna(z, inplace=True)\n",
    "print(df.info())"
   ],
   "id": "79c3dee836585e29",
   "outputs": [
    {
     "name": "stdout",
     "output_type": "stream",
     "text": [
      "<class 'pandas.core.frame.DataFrame'>\n",
      "RangeIndex: 169 entries, 0 to 168\n",
      "Data columns (total 4 columns):\n",
      " #   Column    Non-Null Count  Dtype  \n",
      "---  ------    --------------  -----  \n",
      " 0   Duration  169 non-null    float64\n",
      " 1   Pulse     169 non-null    float64\n",
      " 2   Maxpulse  169 non-null    float64\n",
      " 3   Calories  169 non-null    float64\n",
      "dtypes: float64(4)\n",
      "memory usage: 5.4 KB\n",
      "None\n"
     ]
    }
   ],
   "execution_count": 39
  },
  {
   "metadata": {},
   "cell_type": "markdown",
   "source": "---",
   "id": "cb4d33212d95d552"
  },
  {
   "metadata": {
    "ExecuteTime": {
     "end_time": "2024-11-03T16:09:39.428947Z",
     "start_time": "2024-11-03T16:09:39.406602Z"
    }
   },
   "cell_type": "code",
   "source": [
    "from numpy import nan as NA\n",
    "data = pd.DataFrame([[1., 6.5, 3., 8., 2.3], [1., NA, NA, 5, 1.4],\n",
    "                     [NA, NA, 2,  NA, 4.5], [NA, 6.5, 3.,NA, 3.1],\n",
    "                     [2.5, 8.1, NA, NA, 2], [NA , NA, NA , 4.2, NA],\n",
    "                     [2, 5.2, 1.8, NA, 2.5]])\n",
    "data.index = ['A','B','C','D','E','F','G']\n",
    "data"
   ],
   "id": "70e28ed992656ddf",
   "outputs": [
    {
     "data": {
      "text/plain": [
       "     0    1    2    3    4\n",
       "A  1.0  6.5  3.0  8.0  2.3\n",
       "B  1.0  NaN  NaN  5.0  1.4\n",
       "C  NaN  NaN  2.0  NaN  4.5\n",
       "D  NaN  6.5  3.0  NaN  3.1\n",
       "E  2.5  8.1  NaN  NaN  2.0\n",
       "F  NaN  NaN  NaN  4.2  NaN\n",
       "G  2.0  5.2  1.8  NaN  2.5"
      ],
      "text/html": [
       "<div>\n",
       "<style scoped>\n",
       "    .dataframe tbody tr th:only-of-type {\n",
       "        vertical-align: middle;\n",
       "    }\n",
       "\n",
       "    .dataframe tbody tr th {\n",
       "        vertical-align: top;\n",
       "    }\n",
       "\n",
       "    .dataframe thead th {\n",
       "        text-align: right;\n",
       "    }\n",
       "</style>\n",
       "<table border=\"1\" class=\"dataframe\">\n",
       "  <thead>\n",
       "    <tr style=\"text-align: right;\">\n",
       "      <th></th>\n",
       "      <th>0</th>\n",
       "      <th>1</th>\n",
       "      <th>2</th>\n",
       "      <th>3</th>\n",
       "      <th>4</th>\n",
       "    </tr>\n",
       "  </thead>\n",
       "  <tbody>\n",
       "    <tr>\n",
       "      <th>A</th>\n",
       "      <td>1.0</td>\n",
       "      <td>6.5</td>\n",
       "      <td>3.0</td>\n",
       "      <td>8.0</td>\n",
       "      <td>2.3</td>\n",
       "    </tr>\n",
       "    <tr>\n",
       "      <th>B</th>\n",
       "      <td>1.0</td>\n",
       "      <td>NaN</td>\n",
       "      <td>NaN</td>\n",
       "      <td>5.0</td>\n",
       "      <td>1.4</td>\n",
       "    </tr>\n",
       "    <tr>\n",
       "      <th>C</th>\n",
       "      <td>NaN</td>\n",
       "      <td>NaN</td>\n",
       "      <td>2.0</td>\n",
       "      <td>NaN</td>\n",
       "      <td>4.5</td>\n",
       "    </tr>\n",
       "    <tr>\n",
       "      <th>D</th>\n",
       "      <td>NaN</td>\n",
       "      <td>6.5</td>\n",
       "      <td>3.0</td>\n",
       "      <td>NaN</td>\n",
       "      <td>3.1</td>\n",
       "    </tr>\n",
       "    <tr>\n",
       "      <th>E</th>\n",
       "      <td>2.5</td>\n",
       "      <td>8.1</td>\n",
       "      <td>NaN</td>\n",
       "      <td>NaN</td>\n",
       "      <td>2.0</td>\n",
       "    </tr>\n",
       "    <tr>\n",
       "      <th>F</th>\n",
       "      <td>NaN</td>\n",
       "      <td>NaN</td>\n",
       "      <td>NaN</td>\n",
       "      <td>4.2</td>\n",
       "      <td>NaN</td>\n",
       "    </tr>\n",
       "    <tr>\n",
       "      <th>G</th>\n",
       "      <td>2.0</td>\n",
       "      <td>5.2</td>\n",
       "      <td>1.8</td>\n",
       "      <td>NaN</td>\n",
       "      <td>2.5</td>\n",
       "    </tr>\n",
       "  </tbody>\n",
       "</table>\n",
       "</div>"
      ]
     },
     "execution_count": 40,
     "metadata": {},
     "output_type": "execute_result"
    }
   ],
   "execution_count": 40
  },
  {
   "metadata": {},
   "cell_type": "markdown",
   "source": "### Drop the rows with so much null values",
   "id": "3a406d890c9f5833"
  },
  {
   "metadata": {
    "ExecuteTime": {
     "end_time": "2024-11-03T16:14:55.342100Z",
     "start_time": "2024-11-03T16:14:55.334562Z"
    }
   },
   "cell_type": "code",
   "source": "data.dropna(thresh=3)",
   "id": "31586456b2f4b450",
   "outputs": [
    {
     "data": {
      "text/plain": [
       "     0    1    2    3    4\n",
       "A  1.0  6.5  3.0  8.0  2.3\n",
       "B  1.0  NaN  NaN  5.0  1.4\n",
       "D  NaN  6.5  3.0  NaN  3.1\n",
       "E  2.5  8.1  NaN  NaN  2.0\n",
       "G  2.0  5.2  1.8  NaN  2.5"
      ],
      "text/html": [
       "<div>\n",
       "<style scoped>\n",
       "    .dataframe tbody tr th:only-of-type {\n",
       "        vertical-align: middle;\n",
       "    }\n",
       "\n",
       "    .dataframe tbody tr th {\n",
       "        vertical-align: top;\n",
       "    }\n",
       "\n",
       "    .dataframe thead th {\n",
       "        text-align: right;\n",
       "    }\n",
       "</style>\n",
       "<table border=\"1\" class=\"dataframe\">\n",
       "  <thead>\n",
       "    <tr style=\"text-align: right;\">\n",
       "      <th></th>\n",
       "      <th>0</th>\n",
       "      <th>1</th>\n",
       "      <th>2</th>\n",
       "      <th>3</th>\n",
       "      <th>4</th>\n",
       "    </tr>\n",
       "  </thead>\n",
       "  <tbody>\n",
       "    <tr>\n",
       "      <th>A</th>\n",
       "      <td>1.0</td>\n",
       "      <td>6.5</td>\n",
       "      <td>3.0</td>\n",
       "      <td>8.0</td>\n",
       "      <td>2.3</td>\n",
       "    </tr>\n",
       "    <tr>\n",
       "      <th>B</th>\n",
       "      <td>1.0</td>\n",
       "      <td>NaN</td>\n",
       "      <td>NaN</td>\n",
       "      <td>5.0</td>\n",
       "      <td>1.4</td>\n",
       "    </tr>\n",
       "    <tr>\n",
       "      <th>D</th>\n",
       "      <td>NaN</td>\n",
       "      <td>6.5</td>\n",
       "      <td>3.0</td>\n",
       "      <td>NaN</td>\n",
       "      <td>3.1</td>\n",
       "    </tr>\n",
       "    <tr>\n",
       "      <th>E</th>\n",
       "      <td>2.5</td>\n",
       "      <td>8.1</td>\n",
       "      <td>NaN</td>\n",
       "      <td>NaN</td>\n",
       "      <td>2.0</td>\n",
       "    </tr>\n",
       "    <tr>\n",
       "      <th>G</th>\n",
       "      <td>2.0</td>\n",
       "      <td>5.2</td>\n",
       "      <td>1.8</td>\n",
       "      <td>NaN</td>\n",
       "      <td>2.5</td>\n",
       "    </tr>\n",
       "  </tbody>\n",
       "</table>\n",
       "</div>"
      ]
     },
     "execution_count": 51,
     "metadata": {},
     "output_type": "execute_result"
    }
   ],
   "execution_count": 51
  },
  {
   "metadata": {
    "ExecuteTime": {
     "end_time": "2024-11-03T16:15:44.070852Z",
     "start_time": "2024-11-03T16:15:44.059240Z"
    }
   },
   "cell_type": "code",
   "source": [
    "data = pd.DataFrame([[1., 6.5, 3., NA, 2.3], [1., NA, NA, 5, 1.4],\n",
    "                     [NA, NA, 2,  NA, 4.5], [NA, 6.5, 3.,NA, 3.1],\n",
    "                     [2.5, 8.1, NA, NA, 2], [NA , NA, 1, NA , NA], \n",
    "                     [2, 5.2, 1.8, NA, 2.5],  [3, 2.1, 8.1, NA, 2.5],\n",
    "                     [NA, 8.2, NA, NA, 1.9], [2, NA, 1.5, NA, 7.2]])\n",
    "data.index = ['A','B','C','D','E','F','G','H','I','J']\n",
    "data"
   ],
   "id": "2e7b700c65b2a8ac",
   "outputs": [
    {
     "data": {
      "text/plain": [
       "     0    1    2    3    4\n",
       "A  1.0  6.5  3.0  NaN  2.3\n",
       "B  1.0  NaN  NaN  5.0  1.4\n",
       "C  NaN  NaN  2.0  NaN  4.5\n",
       "D  NaN  6.5  3.0  NaN  3.1\n",
       "E  2.5  8.1  NaN  NaN  2.0\n",
       "F  NaN  NaN  1.0  NaN  NaN\n",
       "G  2.0  5.2  1.8  NaN  2.5\n",
       "H  3.0  2.1  8.1  NaN  2.5\n",
       "I  NaN  8.2  NaN  NaN  1.9\n",
       "J  2.0  NaN  1.5  NaN  7.2"
      ],
      "text/html": [
       "<div>\n",
       "<style scoped>\n",
       "    .dataframe tbody tr th:only-of-type {\n",
       "        vertical-align: middle;\n",
       "    }\n",
       "\n",
       "    .dataframe tbody tr th {\n",
       "        vertical-align: top;\n",
       "    }\n",
       "\n",
       "    .dataframe thead th {\n",
       "        text-align: right;\n",
       "    }\n",
       "</style>\n",
       "<table border=\"1\" class=\"dataframe\">\n",
       "  <thead>\n",
       "    <tr style=\"text-align: right;\">\n",
       "      <th></th>\n",
       "      <th>0</th>\n",
       "      <th>1</th>\n",
       "      <th>2</th>\n",
       "      <th>3</th>\n",
       "      <th>4</th>\n",
       "    </tr>\n",
       "  </thead>\n",
       "  <tbody>\n",
       "    <tr>\n",
       "      <th>A</th>\n",
       "      <td>1.0</td>\n",
       "      <td>6.5</td>\n",
       "      <td>3.0</td>\n",
       "      <td>NaN</td>\n",
       "      <td>2.3</td>\n",
       "    </tr>\n",
       "    <tr>\n",
       "      <th>B</th>\n",
       "      <td>1.0</td>\n",
       "      <td>NaN</td>\n",
       "      <td>NaN</td>\n",
       "      <td>5.0</td>\n",
       "      <td>1.4</td>\n",
       "    </tr>\n",
       "    <tr>\n",
       "      <th>C</th>\n",
       "      <td>NaN</td>\n",
       "      <td>NaN</td>\n",
       "      <td>2.0</td>\n",
       "      <td>NaN</td>\n",
       "      <td>4.5</td>\n",
       "    </tr>\n",
       "    <tr>\n",
       "      <th>D</th>\n",
       "      <td>NaN</td>\n",
       "      <td>6.5</td>\n",
       "      <td>3.0</td>\n",
       "      <td>NaN</td>\n",
       "      <td>3.1</td>\n",
       "    </tr>\n",
       "    <tr>\n",
       "      <th>E</th>\n",
       "      <td>2.5</td>\n",
       "      <td>8.1</td>\n",
       "      <td>NaN</td>\n",
       "      <td>NaN</td>\n",
       "      <td>2.0</td>\n",
       "    </tr>\n",
       "    <tr>\n",
       "      <th>F</th>\n",
       "      <td>NaN</td>\n",
       "      <td>NaN</td>\n",
       "      <td>1.0</td>\n",
       "      <td>NaN</td>\n",
       "      <td>NaN</td>\n",
       "    </tr>\n",
       "    <tr>\n",
       "      <th>G</th>\n",
       "      <td>2.0</td>\n",
       "      <td>5.2</td>\n",
       "      <td>1.8</td>\n",
       "      <td>NaN</td>\n",
       "      <td>2.5</td>\n",
       "    </tr>\n",
       "    <tr>\n",
       "      <th>H</th>\n",
       "      <td>3.0</td>\n",
       "      <td>2.1</td>\n",
       "      <td>8.1</td>\n",
       "      <td>NaN</td>\n",
       "      <td>2.5</td>\n",
       "    </tr>\n",
       "    <tr>\n",
       "      <th>I</th>\n",
       "      <td>NaN</td>\n",
       "      <td>8.2</td>\n",
       "      <td>NaN</td>\n",
       "      <td>NaN</td>\n",
       "      <td>1.9</td>\n",
       "    </tr>\n",
       "    <tr>\n",
       "      <th>J</th>\n",
       "      <td>2.0</td>\n",
       "      <td>NaN</td>\n",
       "      <td>1.5</td>\n",
       "      <td>NaN</td>\n",
       "      <td>7.2</td>\n",
       "    </tr>\n",
       "  </tbody>\n",
       "</table>\n",
       "</div>"
      ]
     },
     "execution_count": 52,
     "metadata": {},
     "output_type": "execute_result"
    }
   ],
   "execution_count": 52
  },
  {
   "metadata": {
    "ExecuteTime": {
     "end_time": "2024-11-03T16:18:40.499083Z",
     "start_time": "2024-11-03T16:18:40.491198Z"
    }
   },
   "cell_type": "code",
   "source": "data.isna().sum()",
   "id": "ecdb46a801520a39",
   "outputs": [
    {
     "data": {
      "text/plain": [
       "0    4\n",
       "1    4\n",
       "2    3\n",
       "3    9\n",
       "4    1\n",
       "dtype: int64"
      ]
     },
     "execution_count": 57,
     "metadata": {},
     "output_type": "execute_result"
    }
   ],
   "execution_count": 57
  },
  {
   "metadata": {},
   "cell_type": "markdown",
   "source": "### Drop a column with more than %90 Null value",
   "id": "6bdbc9d9ac6e7c36"
  },
  {
   "metadata": {
    "ExecuteTime": {
     "end_time": "2024-11-03T16:38:41.412888Z",
     "start_time": "2024-11-03T16:38:41.401400Z"
    }
   },
   "cell_type": "code",
   "source": [
    "columns_to_drop = data.columns[data.isna().sum() / len(data) >= 0.9]\n",
    "\n",
    "data.drop(columns=columns_to_drop, axis=1, inplace=True)\n",
    "data"
   ],
   "id": "bbb5d0ce381f8442",
   "outputs": [
    {
     "name": "stdout",
     "output_type": "stream",
     "text": [
      "Index([], dtype='int64')\n"
     ]
    },
    {
     "data": {
      "text/plain": [
       "        0       1       2       4\n",
       "A 1.00000 6.50000 3.00000 2.30000\n",
       "B 1.00000     NaN     NaN 1.40000\n",
       "C     NaN     NaN 2.00000 4.50000\n",
       "D     NaN 6.50000 3.00000 3.10000\n",
       "E 2.50000 8.10000     NaN 2.00000\n",
       "F     NaN     NaN 1.00000     NaN\n",
       "G 2.00000 5.20000 1.80000 2.50000\n",
       "H 3.00000 2.10000 8.10000 2.50000\n",
       "I     NaN 8.20000     NaN 1.90000\n",
       "J 2.00000     NaN 1.50000 7.20000"
      ],
      "text/html": [
       "<div>\n",
       "<style scoped>\n",
       "    .dataframe tbody tr th:only-of-type {\n",
       "        vertical-align: middle;\n",
       "    }\n",
       "\n",
       "    .dataframe tbody tr th {\n",
       "        vertical-align: top;\n",
       "    }\n",
       "\n",
       "    .dataframe thead th {\n",
       "        text-align: right;\n",
       "    }\n",
       "</style>\n",
       "<table border=\"1\" class=\"dataframe\">\n",
       "  <thead>\n",
       "    <tr style=\"text-align: right;\">\n",
       "      <th></th>\n",
       "      <th>0</th>\n",
       "      <th>1</th>\n",
       "      <th>2</th>\n",
       "      <th>4</th>\n",
       "    </tr>\n",
       "  </thead>\n",
       "  <tbody>\n",
       "    <tr>\n",
       "      <th>A</th>\n",
       "      <td>1.00000</td>\n",
       "      <td>6.50000</td>\n",
       "      <td>3.00000</td>\n",
       "      <td>2.30000</td>\n",
       "    </tr>\n",
       "    <tr>\n",
       "      <th>B</th>\n",
       "      <td>1.00000</td>\n",
       "      <td>NaN</td>\n",
       "      <td>NaN</td>\n",
       "      <td>1.40000</td>\n",
       "    </tr>\n",
       "    <tr>\n",
       "      <th>C</th>\n",
       "      <td>NaN</td>\n",
       "      <td>NaN</td>\n",
       "      <td>2.00000</td>\n",
       "      <td>4.50000</td>\n",
       "    </tr>\n",
       "    <tr>\n",
       "      <th>D</th>\n",
       "      <td>NaN</td>\n",
       "      <td>6.50000</td>\n",
       "      <td>3.00000</td>\n",
       "      <td>3.10000</td>\n",
       "    </tr>\n",
       "    <tr>\n",
       "      <th>E</th>\n",
       "      <td>2.50000</td>\n",
       "      <td>8.10000</td>\n",
       "      <td>NaN</td>\n",
       "      <td>2.00000</td>\n",
       "    </tr>\n",
       "    <tr>\n",
       "      <th>F</th>\n",
       "      <td>NaN</td>\n",
       "      <td>NaN</td>\n",
       "      <td>1.00000</td>\n",
       "      <td>NaN</td>\n",
       "    </tr>\n",
       "    <tr>\n",
       "      <th>G</th>\n",
       "      <td>2.00000</td>\n",
       "      <td>5.20000</td>\n",
       "      <td>1.80000</td>\n",
       "      <td>2.50000</td>\n",
       "    </tr>\n",
       "    <tr>\n",
       "      <th>H</th>\n",
       "      <td>3.00000</td>\n",
       "      <td>2.10000</td>\n",
       "      <td>8.10000</td>\n",
       "      <td>2.50000</td>\n",
       "    </tr>\n",
       "    <tr>\n",
       "      <th>I</th>\n",
       "      <td>NaN</td>\n",
       "      <td>8.20000</td>\n",
       "      <td>NaN</td>\n",
       "      <td>1.90000</td>\n",
       "    </tr>\n",
       "    <tr>\n",
       "      <th>J</th>\n",
       "      <td>2.00000</td>\n",
       "      <td>NaN</td>\n",
       "      <td>1.50000</td>\n",
       "      <td>7.20000</td>\n",
       "    </tr>\n",
       "  </tbody>\n",
       "</table>\n",
       "</div>"
      ]
     },
     "execution_count": 62,
     "metadata": {},
     "output_type": "execute_result"
    }
   ],
   "execution_count": 62
  },
  {
   "metadata": {},
   "cell_type": "markdown",
   "source": "# Time Series",
   "id": "b1725f1ce9b597b5"
  },
  {
   "metadata": {
    "ExecuteTime": {
     "end_time": "2024-11-03T16:43:52.596570Z",
     "start_time": "2024-11-03T16:43:52.591192Z"
    }
   },
   "cell_type": "code",
   "source": [
    "from datetime import *\n",
    "today = date.today()\n",
    "print(today.year, today.month, today.day, today.weekday())"
   ],
   "id": "3469e5a532f6967c",
   "outputs": [
    {
     "name": "stdout",
     "output_type": "stream",
     "text": [
      "2024 11 3 6\n"
     ]
    }
   ],
   "execution_count": 66
  },
  {
   "metadata": {
    "ExecuteTime": {
     "end_time": "2024-11-03T16:45:32.543850Z",
     "start_time": "2024-11-03T16:45:32.538819Z"
    }
   },
   "cell_type": "code",
   "source": [
    "t_now = time(23,14,5,10)\n",
    "t_now"
   ],
   "id": "4f85c4d18be4dcc0",
   "outputs": [
    {
     "data": {
      "text/plain": [
       "datetime.time(23, 14, 5, 10)"
      ]
     },
     "execution_count": 68,
     "metadata": {},
     "output_type": "execute_result"
    }
   ],
   "execution_count": 68
  },
  {
   "metadata": {
    "ExecuteTime": {
     "end_time": "2024-11-03T16:46:02.521542Z",
     "start_time": "2024-11-03T16:46:02.516326Z"
    }
   },
   "cell_type": "code",
   "source": [
    "print(t_now.hour)\n",
    "print(t_now.minute)\n",
    "print(t_now.second)\n",
    "print(t_now.microsecond)"
   ],
   "id": "579324eaebb5e22f",
   "outputs": [
    {
     "name": "stdout",
     "output_type": "stream",
     "text": [
      "23\n",
      "14\n",
      "5\n",
      "10\n"
     ]
    }
   ],
   "execution_count": 69
  },
  {
   "metadata": {
    "ExecuteTime": {
     "end_time": "2024-11-03T16:49:22.350412Z",
     "start_time": "2024-11-03T16:49:22.345734Z"
    }
   },
   "cell_type": "code",
   "source": [
    "now = datetime.now()\n",
    "now"
   ],
   "id": "e97e754f98893db6",
   "outputs": [
    {
     "data": {
      "text/plain": [
       "datetime.datetime(2024, 11, 3, 20, 19, 22, 347833)"
      ]
     },
     "execution_count": 75,
     "metadata": {},
     "output_type": "execute_result"
    }
   ],
   "execution_count": 75
  },
  {
   "metadata": {
    "ExecuteTime": {
     "end_time": "2024-11-03T16:49:00.916238Z",
     "start_time": "2024-11-03T16:49:00.907415Z"
    }
   },
   "cell_type": "code",
   "source": "now.year, now.month, now.day, now.weekday()",
   "id": "cea343faf5ff8ef",
   "outputs": [
    {
     "data": {
      "text/plain": [
       "(2024, 11, 3, 6)"
      ]
     },
     "execution_count": 73,
     "metadata": {},
     "output_type": "execute_result"
    }
   ],
   "execution_count": 73
  },
  {
   "metadata": {
    "ExecuteTime": {
     "end_time": "2024-11-03T16:50:49.780558Z",
     "start_time": "2024-11-03T16:50:49.775518Z"
    }
   },
   "cell_type": "code",
   "source": [
    "t1 = date.today()\n",
    "t2 = date(2025, 5, 6)\n",
    "t2 - t1"
   ],
   "id": "6df0140f80e6ccf2",
   "outputs": [
    {
     "data": {
      "text/plain": [
       "datetime.timedelta(days=184)"
      ]
     },
     "execution_count": 76,
     "metadata": {},
     "output_type": "execute_result"
    }
   ],
   "execution_count": 76
  },
  {
   "metadata": {
    "ExecuteTime": {
     "end_time": "2024-11-03T16:52:07.664231Z",
     "start_time": "2024-11-03T16:52:07.653846Z"
    }
   },
   "cell_type": "code",
   "source": [
    "date_in_string = \"2024-08-03\"\n",
    "\n",
    "date_in_datetime = datetime.strptime(date_in_string,'%Y-%m-%d')\n",
    "date_in_datetime"
   ],
   "id": "292cb147eb762bf6",
   "outputs": [
    {
     "data": {
      "text/plain": [
       "datetime.datetime(2024, 8, 3, 0, 0)"
      ]
     },
     "execution_count": 77,
     "metadata": {},
     "output_type": "execute_result"
    }
   ],
   "execution_count": 77
  },
  {
   "metadata": {
    "ExecuteTime": {
     "end_time": "2024-11-03T16:58:47.244080Z",
     "start_time": "2024-11-03T16:58:47.155804Z"
    }
   },
   "cell_type": "code",
   "source": [
    "times = [datetime(2021,8,24, 12, 24), datetime(2021,9,2, 23, 49), datetime(2021,9,10, 2, 15), datetime(2021,8,30, 16, 35),\\\n",
    "         datetime(2021,9,4, 15, 40), datetime(2021,9,14, 18, 0), datetime(2021,9,12, 21, 0), datetime(2021,9,17, 20, 12),\\\n",
    "         datetime(2021,9,1, 7, 4), datetime(2021,9,10, 14, 20)]\n",
    "\n",
    "df = pd.DataFrame()\n",
    "df['time'] = times\n",
    "df['area'] = [2, 4, 10, 4, 3, 1, 7, 5, 2, 8]\n",
    "print(df)"
   ],
   "id": "9970d2f18a83f35c",
   "outputs": [
    {
     "name": "stdout",
     "output_type": "stream",
     "text": [
      "                 time  area\n",
      "0 2021-08-24 12:24:00     2\n",
      "1 2021-09-02 23:49:00     4\n",
      "2 2021-09-10 02:15:00    10\n",
      "3 2021-08-30 16:35:00     4\n",
      "4 2021-09-04 15:40:00     3\n",
      "5 2021-09-14 18:00:00     1\n",
      "6 2021-09-12 21:00:00     7\n",
      "7 2021-09-17 20:12:00     5\n",
      "8 2021-09-01 07:04:00     2\n",
      "9 2021-09-10 14:20:00     8\n"
     ]
    }
   ],
   "execution_count": 78
  },
  {
   "metadata": {
    "ExecuteTime": {
     "end_time": "2024-11-03T17:02:38.639111Z",
     "start_time": "2024-11-03T17:02:38.631993Z"
    }
   },
   "cell_type": "code",
   "source": [
    "dawn = time(hour=7,minute=0,second=0)\n",
    "morning = time(hour=11,minute=0,second=0)\n",
    "noon = time(hour=15,minute=0,second=0)\n",
    "afternoon = time(hour=19,minute=0,second=0)\n",
    "\n",
    "def discretize_time (time) :\n",
    "  if time.time() < dawn : \n",
    "    return \"dawn\"\n",
    "  elif time.time() < morning :\n",
    "    return \"morning\"\n",
    "  elif time.time() < noon :\n",
    "    return \"noon\"\n",
    "  elif time.time() < afternoon :\n",
    "    return \"afternoon\"\n",
    "  else : return \"night\"\n",
    "\n",
    "df['time'] = df.time.apply(discretize_time)\n",
    "df"
   ],
   "id": "67f23faec29d0b67",
   "outputs": [
    {
     "data": {
      "text/plain": [
       "        time  area\n",
       "0       noon     2\n",
       "1      night     4\n",
       "2       dawn    10\n",
       "3  afternoon     4\n",
       "4  afternoon     3\n",
       "5  afternoon     1\n",
       "6      night     7\n",
       "7      night     5\n",
       "8    morning     2\n",
       "9       noon     8"
      ],
      "text/html": [
       "<div>\n",
       "<style scoped>\n",
       "    .dataframe tbody tr th:only-of-type {\n",
       "        vertical-align: middle;\n",
       "    }\n",
       "\n",
       "    .dataframe tbody tr th {\n",
       "        vertical-align: top;\n",
       "    }\n",
       "\n",
       "    .dataframe thead th {\n",
       "        text-align: right;\n",
       "    }\n",
       "</style>\n",
       "<table border=\"1\" class=\"dataframe\">\n",
       "  <thead>\n",
       "    <tr style=\"text-align: right;\">\n",
       "      <th></th>\n",
       "      <th>time</th>\n",
       "      <th>area</th>\n",
       "    </tr>\n",
       "  </thead>\n",
       "  <tbody>\n",
       "    <tr>\n",
       "      <th>0</th>\n",
       "      <td>noon</td>\n",
       "      <td>2</td>\n",
       "    </tr>\n",
       "    <tr>\n",
       "      <th>1</th>\n",
       "      <td>night</td>\n",
       "      <td>4</td>\n",
       "    </tr>\n",
       "    <tr>\n",
       "      <th>2</th>\n",
       "      <td>dawn</td>\n",
       "      <td>10</td>\n",
       "    </tr>\n",
       "    <tr>\n",
       "      <th>3</th>\n",
       "      <td>afternoon</td>\n",
       "      <td>4</td>\n",
       "    </tr>\n",
       "    <tr>\n",
       "      <th>4</th>\n",
       "      <td>afternoon</td>\n",
       "      <td>3</td>\n",
       "    </tr>\n",
       "    <tr>\n",
       "      <th>5</th>\n",
       "      <td>afternoon</td>\n",
       "      <td>1</td>\n",
       "    </tr>\n",
       "    <tr>\n",
       "      <th>6</th>\n",
       "      <td>night</td>\n",
       "      <td>7</td>\n",
       "    </tr>\n",
       "    <tr>\n",
       "      <th>7</th>\n",
       "      <td>night</td>\n",
       "      <td>5</td>\n",
       "    </tr>\n",
       "    <tr>\n",
       "      <th>8</th>\n",
       "      <td>morning</td>\n",
       "      <td>2</td>\n",
       "    </tr>\n",
       "    <tr>\n",
       "      <th>9</th>\n",
       "      <td>noon</td>\n",
       "      <td>8</td>\n",
       "    </tr>\n",
       "  </tbody>\n",
       "</table>\n",
       "</div>"
      ]
     },
     "execution_count": 81,
     "metadata": {},
     "output_type": "execute_result"
    }
   ],
   "execution_count": 81
  },
  {
   "metadata": {},
   "cell_type": "markdown",
   "source": "# cut in strings",
   "id": "99eb44d6e05a9065"
  },
  {
   "metadata": {
    "ExecuteTime": {
     "end_time": "2024-11-03T17:03:05.341765Z",
     "start_time": "2024-11-03T17:03:05.331574Z"
    }
   },
   "cell_type": "code",
   "source": [
    "df = pd.DataFrame()\n",
    "df['name'] = [\"helma\",\"sajede\",\"ali\",\"hossein\",\"mohsen\",\"haniye\",\"hasan\",\"sajjad\"]\n",
    "df['age'] = [5, 15, 12, 60, 35, 17, 71, 23]\n",
    "print(df)"
   ],
   "id": "96f6d4137b657e58",
   "outputs": [
    {
     "name": "stdout",
     "output_type": "stream",
     "text": [
      "      name  age\n",
      "0    helma    5\n",
      "1   sajede   15\n",
      "2      ali   12\n",
      "3  hossein   60\n",
      "4   mohsen   35\n",
      "5   haniye   17\n",
      "6    hasan   71\n",
      "7   sajjad   23\n"
     ]
    }
   ],
   "execution_count": 82
  },
  {
   "metadata": {
    "ExecuteTime": {
     "end_time": "2024-11-03T17:04:53.886623Z",
     "start_time": "2024-11-03T17:04:53.858956Z"
    }
   },
   "cell_type": "code",
   "source": [
    "bins = [1, 11, 18, 35, 50, 100]\n",
    "labels = [\"child\", \"teenager\", \"young\", \"middle_aged\", \"old\"]\n",
    "df['age'] = pd.cut(df.age, bins, labels=labels)\n",
    "df"
   ],
   "id": "2fe12294b12b811f",
   "outputs": [
    {
     "data": {
      "text/plain": [
       "      name       age\n",
       "0    helma     child\n",
       "1   sajede  teenager\n",
       "2      ali  teenager\n",
       "3  hossein       old\n",
       "4   mohsen     young\n",
       "5   haniye  teenager\n",
       "6    hasan       old\n",
       "7   sajjad     young"
      ],
      "text/html": [
       "<div>\n",
       "<style scoped>\n",
       "    .dataframe tbody tr th:only-of-type {\n",
       "        vertical-align: middle;\n",
       "    }\n",
       "\n",
       "    .dataframe tbody tr th {\n",
       "        vertical-align: top;\n",
       "    }\n",
       "\n",
       "    .dataframe thead th {\n",
       "        text-align: right;\n",
       "    }\n",
       "</style>\n",
       "<table border=\"1\" class=\"dataframe\">\n",
       "  <thead>\n",
       "    <tr style=\"text-align: right;\">\n",
       "      <th></th>\n",
       "      <th>name</th>\n",
       "      <th>age</th>\n",
       "    </tr>\n",
       "  </thead>\n",
       "  <tbody>\n",
       "    <tr>\n",
       "      <th>0</th>\n",
       "      <td>helma</td>\n",
       "      <td>child</td>\n",
       "    </tr>\n",
       "    <tr>\n",
       "      <th>1</th>\n",
       "      <td>sajede</td>\n",
       "      <td>teenager</td>\n",
       "    </tr>\n",
       "    <tr>\n",
       "      <th>2</th>\n",
       "      <td>ali</td>\n",
       "      <td>teenager</td>\n",
       "    </tr>\n",
       "    <tr>\n",
       "      <th>3</th>\n",
       "      <td>hossein</td>\n",
       "      <td>old</td>\n",
       "    </tr>\n",
       "    <tr>\n",
       "      <th>4</th>\n",
       "      <td>mohsen</td>\n",
       "      <td>young</td>\n",
       "    </tr>\n",
       "    <tr>\n",
       "      <th>5</th>\n",
       "      <td>haniye</td>\n",
       "      <td>teenager</td>\n",
       "    </tr>\n",
       "    <tr>\n",
       "      <th>6</th>\n",
       "      <td>hasan</td>\n",
       "      <td>old</td>\n",
       "    </tr>\n",
       "    <tr>\n",
       "      <th>7</th>\n",
       "      <td>sajjad</td>\n",
       "      <td>young</td>\n",
       "    </tr>\n",
       "  </tbody>\n",
       "</table>\n",
       "</div>"
      ]
     },
     "execution_count": 83,
     "metadata": {},
     "output_type": "execute_result"
    }
   ],
   "execution_count": 83
  }
 ],
 "metadata": {
  "kernelspec": {
   "display_name": "Python 3",
   "language": "python",
   "name": "python3"
  },
  "language_info": {
   "codemirror_mode": {
    "name": "ipython",
    "version": 2
   },
   "file_extension": ".py",
   "mimetype": "text/x-python",
   "name": "python",
   "nbconvert_exporter": "python",
   "pygments_lexer": "ipython2",
   "version": "2.7.6"
  }
 },
 "nbformat": 4,
 "nbformat_minor": 5
}
